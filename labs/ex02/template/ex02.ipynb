{
 "cells": [
  {
   "cell_type": "code",
   "execution_count": 4,
   "metadata": {
    "collapsed": false
   },
   "outputs": [],
   "source": [
    "# Useful starting lines\n",
    "%matplotlib inline\n",
    "import numpy as np\n",
    "import matplotlib.pyplot as plt\n",
    "%load_ext autoreload\n",
    "%autoreload 2"
   ]
  },
  {
   "cell_type": "markdown",
   "metadata": {},
   "source": [
    "# Load the data"
   ]
  },
  {
   "cell_type": "code",
   "execution_count": 5,
   "metadata": {
    "collapsed": false
   },
   "outputs": [],
   "source": [
    "import datetime\n",
    "from helpers import *\n",
    "\n",
    "height, weight, gender = load_data(sub_sample=True, add_outlier=True)\n",
    "x, mean_x, std_x = standardize(height)\n",
    "y, tx = build_model_data(x, weight)"
   ]
  },
  {
   "cell_type": "code",
   "execution_count": 6,
   "metadata": {
    "collapsed": false
   },
   "outputs": [
    {
     "data": {
      "text/plain": [
       "((202,), (202, 2))"
      ]
     },
     "execution_count": 6,
     "metadata": {},
     "output_type": "execute_result"
    }
   ],
   "source": [
    "y.shape, tx.shape"
   ]
  },
  {
   "cell_type": "markdown",
   "metadata": {},
   "source": [
    "# Computing the Cost Function\n",
    "Fill in the the `compute_cost` function below:"
   ]
  },
  {
   "cell_type": "code",
   "execution_count": 7,
   "metadata": {
    "collapsed": false
   },
   "outputs": [],
   "source": [
    "def compute_cost(y, tx, w):\n",
    "    \"\"\"calculate the cost.\n",
    "    you can calculate the cost by mae.\n",
    "    \"\"\"\n",
    "    # ***************************************************\n",
    "    # INSERT YOUR CODE HERE\n",
    "    # TODO: compute loss by MAE\n",
    "    # ***************************************************\n",
    "    e = np.absolute(y - np.dot(tx,w)) \n",
    "    toReturn = (np.sum(e) / y.shape[0])\n",
    "    return toReturn\n",
    "\n",
    "def compute_cost1(y, tx, w):\n",
    "    \"\"\"calculate the cost.\n",
    "    you can calculate the cost by mse.\n",
    "    \"\"\"\n",
    "    # ***************************************************\n",
    "    # INSERT YOUR CODE HERE\n",
    "    # TODO: compute loss by MSE\n",
    "    # ***************************************************\n",
    "    e = y - np.dot(tx,w) \n",
    "    toReturn = (np.dot(e.T, e) / (2*y.shape[0]))\n",
    "    return toReturn"
   ]
  },
  {
   "cell_type": "markdown",
   "metadata": {},
   "source": [
    "# Grid Search"
   ]
  },
  {
   "cell_type": "markdown",
   "metadata": {},
   "source": [
    "Fill in the function `grid_search()` below:"
   ]
  },
  {
   "cell_type": "code",
   "execution_count": 8,
   "metadata": {
    "collapsed": false
   },
   "outputs": [],
   "source": [
    "def grid_search(y, tx, w0, w1):\n",
    "    \"\"\"Algorithm for grid search.\"\"\"\n",
    "    loss = np.zeros((len(w0), len(w1)))\n",
    "    # ***************************************************\n",
    "    # INSERT YOUR CODE HERE\n",
    "    # TODO: compute loss for each combination of w0 and w1.\n",
    "    # ***************************************************\n",
    "    for i in range(0, len(w0)) :\n",
    "        for j in range(0, len(w1)) :\n",
    "            loss[i, j] = compute_cost(y, tx, np.array([w0[i], w1[j]]))\n",
    "    return loss\n"
   ]
  },
  {
   "cell_type": "markdown",
   "metadata": {},
   "source": [
    "Let us play with the grid search demo now!"
   ]
  },
  {
   "cell_type": "code",
   "execution_count": 9,
   "metadata": {
    "collapsed": false
   },
   "outputs": [
    {
     "name": "stdout",
     "output_type": "stream",
     "text": [
      "Done...\n",
      "Grid Search: loss*=7.956595728172087, w0*=66.66666666666669, w1*=16.666666666666686, execution time=0.032 seconds\n"
     ]
    },
    {
     "data": {
      "image/png": "[encoded data removed]",
      "text/plain": [
       "<matplotlib.figure.Figure at 0x10c0e3668>"
      ]
     },
     "metadata": {},
     "output_type": "display_data"
    }
   ],
   "source": [
    "from grid_search import generate_w, get_best_parameters\n",
    "from plots import grid_visualization\n",
    "import datetime\n",
    "\n",
    "# Generate the grid of parameters to be swept\n",
    "grid_w0, grid_w1 = generate_w(num_intervals=10)\n",
    "\n",
    "# Start the grid search\n",
    "start_time = datetime.datetime.now()\n",
    "grid_losses = grid_search(y, tx, grid_w0, grid_w1)\n",
    "print(\"Done...\")\n",
    "\n",
    "# Select the best combinaison\n",
    "loss_star, w0_star, w1_star = get_best_parameters(grid_w0, grid_w1, grid_losses)\n",
    "end_time = datetime.datetime.now()\n",
    "execution_time = (end_time - start_time).total_seconds()\n",
    "\n",
    "# Print the results\n",
    "print(\"Grid Search: loss*={l}, w0*={w0}, w1*={w1}, execution time={t:.3f} seconds\".format(\n",
    "      l=loss_star, w0=w0_star, w1=w1_star, t=execution_time))\n",
    "\n",
    "# Plot the results\n",
    "fig = grid_visualization(grid_losses, grid_w0, grid_w1, mean_x, std_x, height, weight)\n",
    "fig.set_size_inches(10.0,6.0)\n",
    "fig.savefig(\"grid_plot\")  # Optional saving\n"
   ]
  },
  {
   "cell_type": "markdown",
   "metadata": {},
   "source": [
    "# Gradient Descent"
   ]
  },
  {
   "cell_type": "markdown",
   "metadata": {},
   "source": [
    "Again, please fill in the functions `compute_gradient` below:"
   ]
  },
  {
   "cell_type": "code",
   "execution_count": 10,
   "metadata": {
    "collapsed": false
   },
   "outputs": [],
   "source": [
    "def compute_gradient(y,tx,w):\n",
    "    \"\"\"Compute the gradient with MAE.\"\"\"\n",
    "    e = y - np.dot(tx,w.T)\n",
    "    s = np.sign(e).reshape(-1,1)\n",
    "    toReturn = np.sum(-tx*s,axis=0)/len(y) \n",
    "    return toReturn\n",
    "            \n",
    "\n",
    "\n",
    "def compute_gradient1(y, tx, w):\n",
    "    \"\"\"Compute the gradient with MSE.\"\"\"\n",
    "    # ***************************************************\n",
    "    # INSERT YOUR CODE HERE\n",
    "    # TODO: compute gradient and loss\n",
    "    # ***************************************************\n",
    "    e = y - np.dot(tx,w.T)\n",
    "    toReturn = -np.dot(tx.T,e) / y.shape[0]\n",
    "    return toReturn\n",
    "#print(\"w = (100,20) :\",compute_gradient(y,tx,np.array([100,20])))\n",
    "#print(\"w = (100,20) norm :\",np.linalg.norm(compute_gradient(y,tx,np.array([100,20]))))\n",
    "#print(\"w = (50,10) :\",compute_gradient(y,tx,np.array([50,10])))\n",
    "#print(\"w = (50,10) norm :\",np.linalg.norm(compute_gradient(y,tx,np.array([50,10]))))\n",
    "\n",
    "#to test\n",
    "#compute_gradient(np.array([1,3]),np.array([[1,4],[1,5]]),np.array([1,2]))"
   ]
  },
  {
   "cell_type": "markdown",
   "metadata": {},
   "source": [
    "Please fill in the functions `gradient_descent` below:"
   ]
  },
  {
   "cell_type": "code",
   "execution_count": 11,
   "metadata": {
    "collapsed": true
   },
   "outputs": [],
   "source": [
    "def gradient_descent(y, tx, initial_w, max_iters, gamma): \n",
    "    \"\"\"Gradient descent algorithm.\"\"\"\n",
    "    # Define parameters to store w and loss\n",
    "    ws = [initial_w]\n",
    "    losses = []\n",
    "    w = initial_w\n",
    "    for n_iter in range(max_iters):\n",
    "        # ***************************************************\n",
    "        # INSERT YOUR CODE HERE\n",
    "        # TODO: compute gradient and loss\n",
    "        # ***************************************************\n",
    "        gradient = compute_gradient(y,tx,w)\n",
    "        loss = compute_cost(y,tx,w)\n",
    "        # ***************************************************\n",
    "        # INSERT YOUR CODE HERE\n",
    "        # TODO: update w by gradient\n",
    "        # ***************************************************\n",
    "        w_new = w - gamma*gradient\n",
    "        w = w_new\n",
    "        \n",
    "        # store w and loss\n",
    "        ws.append(w)\n",
    "        losses.append(loss)\n",
    "        print(\"Gradient Descent({bi}/{ti}): loss={l}, w0={w0}, w1={w1}\".format(\n",
    "              bi=n_iter, ti=max_iters - 1, l=loss, w0=w[0], w1=w[1]))\n",
    "\n",
    "    return losses, ws"
   ]
  },
  {
   "cell_type": "markdown",
   "metadata": {},
   "source": [
    "Test your gradient descent function through gradient descent demo shown below:"
   ]
  },
  {
   "cell_type": "code",
   "execution_count": 21,
   "metadata": {
    "collapsed": false
   },
   "outputs": [
    {
     "name": "stdout",
     "output_type": "stream",
     "text": [
      "Gradient Descent(0/99): loss=74.06780585492638, w0=20.0, w1=1.745578379311632e-14\n",
      "Gradient Descent(1/99): loss=54.067805854926384, w0=40.0, w1=3.491156758623264e-14\n",
      "Gradient Descent(2/99): loss=34.067805854926384, w0=60.0, w1=5.2367351379348965e-14\n",
      "Gradient Descent(3/99): loss=16.68291839004858, w0=69.70297029702971, w1=9.918465380374434\n",
      "Gradient Descent(4/99): loss=7.840923112539188, w0=75.04950495049505, w1=19.727807498783747\n",
      "Gradient Descent(5/99): loss=6.568059487912669, w0=68.31683168316832, w1=12.025255580288075\n",
      "Gradient Descent(6/99): loss=7.4213260933282506, w0=77.22772277227723, w1=18.40090924140687\n",
      "Gradient Descent(7/99): loss=7.105187023525762, w0=66.33663366336634, w1=14.012738537114839\n",
      "Gradient Descent(8/99): loss=8.209044226617369, w0=81.98019801980199, w1=15.21309003259486\n",
      "Gradient Descent(9/99): loss=10.109569425789081, w0=63.960396039603964, w1=14.69239382093129\n",
      "Gradient Descent(10/99): loss=10.249736500182767, w0=82.37623762376238, w1=15.015160631524212\n",
      "Gradient Descent(11/99): loss=10.461244133307474, w0=64.35643564356435, w1=14.494464419860643\n",
      "Gradient Descent(12/99): loss=9.888579929379011, w0=82.57425742574257, w1=14.952464102427008\n",
      "Gradient Descent(13/99): loss=10.638025722040263, w0=64.55445544554455, w1=14.431767890763439\n",
      "Gradient Descent(14/99): loss=9.710886042771936, w0=82.57425742574257, w1=14.96895540711664\n",
      "Gradient Descent(15/99): loss=10.638455070034128, w0=64.55445544554455, w1=14.44825919545307\n",
      "Gradient Descent(16/99): loss=9.710443096621553, w0=82.57425742574257, w1=14.985446711806272\n",
      "Gradient Descent(17/99): loss=10.638884418027994, w0=64.55445544554455, w1=14.464750500142703\n",
      "Gradient Descent(18/99): loss=9.71000015047117, w0=82.57425742574257, w1=15.001938016495904\n",
      "Gradient Descent(19/99): loss=10.639313766021855, w0=64.55445544554455, w1=14.481241804832335\n",
      "Gradient Descent(20/99): loss=9.709557204320788, w0=82.57425742574257, w1=15.018429321185536\n",
      "Gradient Descent(21/99): loss=10.639743114015722, w0=64.55445544554455, w1=14.497733109521967\n",
      "Gradient Descent(22/99): loss=9.709114258170406, w0=82.57425742574257, w1=15.034920625875168\n",
      "Gradient Descent(23/99): loss=10.640172462009586, w0=64.55445544554455, w1=14.514224414211599\n",
      "Gradient Descent(24/99): loss=9.708671312020023, w0=82.57425742574257, w1=15.0514119305648\n",
      "Gradient Descent(25/99): loss=10.64060181000345, w0=64.55445544554455, w1=14.53071571890123\n",
      "Gradient Descent(26/99): loss=9.70822836586964, w0=82.57425742574257, w1=15.067903235254432\n",
      "Gradient Descent(27/99): loss=10.641031157997315, w0=64.55445544554455, w1=14.547207023590863\n",
      "Gradient Descent(28/99): loss=9.707785419719258, w0=82.57425742574257, w1=15.084394539944064\n",
      "Gradient Descent(29/99): loss=10.641460505991178, w0=64.55445544554455, w1=14.563698328280495\n",
      "Gradient Descent(30/99): loss=9.707383539890712, w0=82.37623762376236, w1=14.945753028860624\n",
      "Gradient Descent(31/99): loss=10.459437119519086, w0=64.35643564356434, w1=14.425056817197055\n",
      "Gradient Descent(32/99): loss=9.890169362378403, w0=82.57425742574256, w1=14.88305649976342\n",
      "Gradient Descent(33/99): loss=10.636218708251874, w0=64.55445544554453, w1=14.36236028809985\n",
      "Gradient Descent(34/99): loss=9.712750287656492, w0=82.57425742574256, w1=14.899547804453052\n",
      "Gradient Descent(35/99): loss=10.636648056245738, w0=64.55445544554453, w1=14.378851592789482\n",
      "Gradient Descent(36/99): loss=9.71230734150611, w0=82.57425742574256, w1=14.916039109142684\n",
      "Gradient Descent(37/99): loss=10.637077404239601, w0=64.55445544554453, w1=14.395342897479114\n",
      "Gradient Descent(38/99): loss=9.711864395355727, w0=82.57425742574256, w1=14.932530413832316\n",
      "Gradient Descent(39/99): loss=10.637506752233463, w0=64.55445544554453, w1=14.411834202168746\n",
      "Gradient Descent(40/99): loss=9.711421449205345, w0=82.57425742574256, w1=14.949021718521948\n",
      "Gradient Descent(41/99): loss=10.63793610022733, w0=64.55445544554453, w1=14.428325506858378\n",
      "Gradient Descent(42/99): loss=9.710978503054962, w0=82.57425742574256, w1=14.96551302321158\n",
      "Gradient Descent(43/99): loss=10.638365448221194, w0=64.55445544554453, w1=14.44481681154801\n",
      "Gradient Descent(44/99): loss=9.71053555690458, w0=82.57425742574256, w1=14.982004327901212\n",
      "Gradient Descent(45/99): loss=10.638794796215057, w0=64.55445544554453, w1=14.461308116237642\n",
      "Gradient Descent(46/99): loss=9.710092610754197, w0=82.57425742574256, w1=14.998495632590844\n",
      "Gradient Descent(47/99): loss=10.63922414420892, w0=64.55445544554453, w1=14.477799420927274\n",
      "Gradient Descent(48/99): loss=9.709649664603814, w0=82.57425742574256, w1=15.014986937280476\n",
      "Gradient Descent(49/99): loss=10.639653492202786, w0=64.55445544554453, w1=14.494290725616906\n",
      "Gradient Descent(50/99): loss=9.709206718453434, w0=82.57425742574256, w1=15.031478241970108\n",
      "Gradient Descent(51/99): loss=10.64008284019665, w0=64.55445544554453, w1=14.510782030306538\n",
      "Gradient Descent(52/99): loss=9.708763772303051, w0=82.57425742574256, w1=15.04796954665974\n",
      "Gradient Descent(53/99): loss=10.640512188190515, w0=64.55445544554453, w1=14.52727333499617\n",
      "Gradient Descent(54/99): loss=9.708320826152669, w0=82.57425742574256, w1=15.064460851349372\n",
      "Gradient Descent(55/99): loss=10.640941536184377, w0=64.55445544554453, w1=14.543764639685802\n",
      "Gradient Descent(56/99): loss=9.707877880002286, w0=82.57425742574256, w1=15.080952156039004\n",
      "Gradient Descent(57/99): loss=10.641370884178242, w0=64.55445544554453, w1=14.560255944375434\n",
      "Gradient Descent(58/99): loss=9.70744929883833, w0=82.37623762376236, w1=14.942310644955564\n",
      "Gradient Descent(59/99): loss=10.459347497706162, w0=64.35643564356434, w1=14.421614433291994\n",
      "Gradient Descent(60/99): loss=9.890248192915193, w0=82.57425742574256, w1=14.87961411585836\n",
      "Gradient Descent(61/99): loss=10.636129086438949, w0=64.55445544554453, w1=14.35891790419479\n",
      "Gradient Descent(62/99): loss=9.712842747939508, w0=82.57425742574256, w1=14.896105420547991\n",
      "Gradient Descent(63/99): loss=10.636558434432814, w0=64.55445544554453, w1=14.375409208884422\n",
      "Gradient Descent(64/99): loss=9.712399801789125, w0=82.57425742574256, w1=14.912596725237623\n",
      "Gradient Descent(65/99): loss=10.636987782426678, w0=64.55445544554453, w1=14.391900513574054\n",
      "Gradient Descent(66/99): loss=9.711956855638743, w0=82.57425742574256, w1=14.929088029927255\n",
      "Gradient Descent(67/99): loss=10.63741713042054, w0=64.55445544554453, w1=14.408391818263686\n",
      "Gradient Descent(68/99): loss=9.711513909488358, w0=82.57425742574256, w1=14.945579334616887\n",
      "Gradient Descent(69/99): loss=10.637846478414406, w0=64.55445544554453, w1=14.424883122953318\n",
      "Gradient Descent(70/99): loss=9.711070963337978, w0=82.57425742574256, w1=14.96207063930652\n",
      "Gradient Descent(71/99): loss=10.63827582640827, w0=64.55445544554453, w1=14.44137442764295\n",
      "Gradient Descent(72/99): loss=9.710628017187595, w0=82.57425742574256, w1=14.978561943996151\n",
      "Gradient Descent(73/99): loss=10.638705174402135, w0=64.55445544554453, w1=14.457865732332582\n",
      "Gradient Descent(74/99): loss=9.710185071037213, w0=82.57425742574256, w1=14.995053248685783\n",
      "Gradient Descent(75/99): loss=10.639134522395999, w0=64.55445544554453, w1=14.474357037022214\n",
      "Gradient Descent(76/99): loss=9.70974212488683, w0=82.57425742574256, w1=15.011544553375415\n",
      "Gradient Descent(77/99): loss=10.63956387038986, w0=64.55445544554453, w1=14.490848341711846\n",
      "Gradient Descent(78/99): loss=9.709299178736448, w0=82.57425742574256, w1=15.028035858065047\n",
      "Gradient Descent(79/99): loss=10.639993218383726, w0=64.55445544554453, w1=14.507339646401478\n",
      "Gradient Descent(80/99): loss=9.708856232586065, w0=82.57425742574256, w1=15.04452716275468\n",
      "Gradient Descent(81/99): loss=10.64042256637759, w0=64.55445544554453, w1=14.52383095109111\n",
      "Gradient Descent(82/99): loss=9.708413286435684, w0=82.57425742574256, w1=15.061018467444311\n",
      "Gradient Descent(83/99): loss=10.640851914371455, w0=64.55445544554453, w1=14.540322255780742\n",
      "Gradient Descent(84/99): loss=9.7079703402853, w0=82.57425742574256, w1=15.077509772133943\n",
      "Gradient Descent(85/99): loss=10.641281262365318, w0=64.55445544554453, w1=14.556813560470374\n",
      "Gradient Descent(86/99): loss=9.707527394134917, w0=82.57425742574256, w1=15.094001076823576\n",
      "Gradient Descent(87/99): loss=10.641710610359183, w0=64.55445544554453, w1=14.573304865160006\n",
      "Gradient Descent(88/99): loss=9.70720002876217, w0=82.37623762376236, w1=14.955359565740135\n",
      "Gradient Descent(89/99): loss=10.459687223887105, w0=64.35643564356434, w1=14.434663354076566\n",
      "Gradient Descent(90/99): loss=9.889949372836336, w0=82.57425742574256, w1=14.892663036642933\n",
      "Gradient Descent(91/99): loss=10.636468812619889, w0=64.55445544554453, w1=14.371966824979364\n",
      "Gradient Descent(92/99): loss=9.71249226207214, w0=82.57425742574256, w1=14.909154341332565\n",
      "Gradient Descent(93/99): loss=10.636898160613754, w0=64.55445544554453, w1=14.388458129668996\n",
      "Gradient Descent(94/99): loss=9.712049315921757, w0=82.57425742574256, w1=14.925645646022197\n",
      "Gradient Descent(95/99): loss=10.637327508607619, w0=64.55445544554453, w1=14.404949434358628\n",
      "Gradient Descent(96/99): loss=9.711606369771374, w0=82.57425742574256, w1=14.942136950711829\n",
      "Gradient Descent(97/99): loss=10.637756856601484, w0=64.55445544554453, w1=14.42144073904826\n",
      "Gradient Descent(98/99): loss=9.711163423620992, w0=82.57425742574256, w1=14.958628255401461\n",
      "Gradient Descent(99/99): loss=10.638186204595346, w0=64.55445544554453, w1=14.437932043737892\n",
      "Gradient Descent: execution time=0.006 seconds\n"
     ]
    }
   ],
   "source": [
    "# from gradient_descent import *\n",
    "from plots import gradient_descent_visualization\n",
    "\n",
    "# Define the parameters of the algorithm.\n",
    "max_iters = 100\n",
    "gamma = 20\n",
    "\n",
    "# Initialization\n",
    "w_initial = np.array([0,0])\n",
    "\n",
    "# Start gradient descent.\n",
    "start_time = datetime.datetime.now()\n",
    "gradient_losses, gradient_ws = gradient_descent(y, tx, w_initial, max_iters, gamma)\n",
    "end_time = datetime.datetime.now()\n",
    "\n",
    "# Print result\n",
    "exection_time = (end_time - start_time).total_seconds()\n",
    "print(\"Gradient Descent: execution time={t:.3f} seconds\".format(t=exection_time))"
   ]
  },
  {
   "cell_type": "code",
   "execution_count": 22,
   "metadata": {
    "collapsed": false
   },
   "outputs": [
    {
     "data": {
      "image/png": "[encoded data removed]",
      "text/plain": [
       "<matplotlib.figure.Figure at 0x10febf390>"
      ]
     },
     "metadata": {},
     "output_type": "display_data"
    }
   ],
   "source": [
    "# Time Visualization\n",
    "from ipywidgets import IntSlider, interact\n",
    "def plot_figure(n_iter):\n",
    "    fig = gradient_descent_visualization(\n",
    "        gradient_losses, gradient_ws, grid_losses, grid_w0, grid_w1, mean_x, std_x, height, weight, n_iter)\n",
    "    fig.set_size_inches(10.0, 6.0)\n",
    "\n",
    "interact(plot_figure, n_iter=IntSlider(min=1, max=len(gradient_ws)))"
   ]
  },
  {
   "cell_type": "markdown",
   "metadata": {},
   "source": [
    "# Stochastic gradient descent"
   ]
  },
  {
   "cell_type": "code",
   "execution_count": 18,
   "metadata": {
    "collapsed": false
   },
   "outputs": [],
   "source": [
    "def compute_stoch_gradient(y, tx, w):\n",
    "    \"\"\"Compute a stochastic gradient for batch data.\"\"\"\n",
    "    # ***************************************************\n",
    "    # INSERT YOUR CODE HERE\n",
    "    # TODO: implement stochastic gradient computation.\n",
    "    # ***************************************************\n",
    "    \n",
    "    #We simply compute the normal gradient of this batch\n",
    "    \n",
    "    #Is this what we should do?\n",
    "    #toReturn = np.sum([compute_gradient(yn,txn,w) for (yn,txn) in zip(y,tx)])/len(y)\n",
    "    return compute_gradient(y,tx,w)\n",
    "\n",
    "def stochastic_gradient_descent(\n",
    "        y, tx, initial_w, batch_size, max_epochs, gamma):\n",
    "    \"\"\"Stochastic gradient descent algorithm.\"\"\"\n",
    "    # ***************************************************\n",
    "    # INSERT YOUR CODE HERE\n",
    "    # TODO: implement stochastic gradient descent.\n",
    "    # ***************************************************\n",
    "    batches = batch_iter(y, tx, batch_size)\n",
    "    \n",
    "    # Define parameters to store w and loss\n",
    "    ws = [initial_w]\n",
    "    losses = []\n",
    "    w = initial_w\n",
    "    for n_iter in range(max_epochs):\n",
    "        # ***************************************************\n",
    "        # INSERT YOUR CODE HERE\n",
    "        # TODO: compute gradient and loss\n",
    "        # ***************************************************\n",
    "        y,tx = batches.__next__()\n",
    "        gradient = compute_stoch_gradient(y,tx,w)\n",
    "        loss = compute_cost(y,tx,w)\n",
    "        # ***************************************************\n",
    "        # INSERT YOUR CODE HERE\n",
    "        # TODO: update w by gradient\n",
    "        # ***************************************************\n",
    "        w_new = w - gamma*gradient\n",
    "        w = w_new\n",
    "        \n",
    "        # store w and loss\n",
    "        ws.append(w)\n",
    "        losses.append(loss)\n",
    "        print(\"Gradient Descent({bi}/{ti}): loss={l}, w0={w0}, w1={w1}\".format(\n",
    "              bi=n_iter, ti=max_epochs - 1, l=loss, w0=w[0], w1=w[1]))\n",
    "\n",
    "    return losses, ws\n"
   ]
  },
  {
   "cell_type": "code",
   "execution_count": 29,
   "metadata": {
    "collapsed": false
   },
   "outputs": [
    {
     "name": "stdout",
     "output_type": "stream",
     "text": [
      "Gradient Descent(0/99): loss=81.29793408647726, w0=2.0, w1=0.7718241436847716\n",
      "Gradient Descent(1/99): loss=68.2246594921449, w0=4.0, w1=1.3397123317376987\n",
      "Gradient Descent(2/99): loss=80.52948122071177, w0=6.0, w1=3.108664891579603\n",
      "Gradient Descent(3/99): loss=70.93562841474598, w0=8.0, w1=3.152401082185706\n",
      "Gradient Descent(4/99): loss=49.191606620288766, w0=10.0, w1=1.5890802186603623\n",
      "Gradient Descent(5/99): loss=57.18706547290835, w0=12.0, w1=-0.37290445421431384\n",
      "Gradient Descent(6/99): loss=79.46641095479231, w0=14.0, w1=1.2076838774317245\n",
      "Gradient Descent(7/99): loss=55.822993742075646, w0=16.0, w1=1.952575938522764\n",
      "Gradient Descent(8/99): loss=75.20337449515253, w0=18.0, w1=4.043903348544578\n",
      "Gradient Descent(9/99): loss=66.31900350187281, w0=20.0, w1=4.604887901450944\n",
      "Gradient Descent(10/99): loss=60.179137209722704, w0=22.0, w1=6.607556465550237\n",
      "Gradient Descent(11/99): loss=39.29983602536842, w0=24.0, w1=5.807759344303199\n",
      "Gradient Descent(12/99): loss=39.739347150263754, w0=26.0, w1=4.2562837404029175\n",
      "Gradient Descent(13/99): loss=36.204798746789045, w0=28.0, w1=3.2646152100600867\n",
      "Gradient Descent(14/99): loss=45.91705728593847, w0=30.0, w1=3.6426824282139116\n",
      "Gradient Descent(15/99): loss=30.179264298912567, w0=32.0, w1=2.468181900950409\n",
      "Gradient Descent(16/99): loss=56.40566922844525, w0=34.0, w1=4.249576536053773\n",
      "Gradient Descent(17/99): loss=26.8626851494957, w0=36.0, w1=3.148764706544836\n",
      "Gradient Descent(18/99): loss=39.53123979150156, w0=38.0, w1=3.9052935899470307\n",
      "Gradient Descent(19/99): loss=25.309779970332976, w0=40.0, w1=2.649041003989361\n",
      "Gradient Descent(20/99): loss=39.25744943593516, w0=42.0, w1=4.526705870260747\n",
      "Gradient Descent(21/99): loss=26.430226620698335, w0=44.0, w1=2.8895342045046792\n",
      "Gradient Descent(22/99): loss=28.005716989343377, w0=46.0, w1=2.6030282066755093\n",
      "Gradient Descent(23/99): loss=13.414989616475196, w0=48.0, w1=1.16012040146316\n",
      "Gradient Descent(24/99): loss=23.3981389124152, w0=50.0, w1=1.1784857754012927\n",
      "Gradient Descent(25/99): loss=31.76207120206726, w0=52.0, w1=1.6153250814429543\n",
      "Gradient Descent(26/99): loss=10.207342254199808, w0=54.0, w1=0.9181055822739518\n",
      "Gradient Descent(27/99): loss=8.41540042966163, w0=56.0, w1=1.0789901966891047\n",
      "Gradient Descent(28/99): loss=50.44865746843821, w0=58.0, w1=5.479168306366779\n",
      "Gradient Descent(29/99): loss=16.238412417276265, w0=60.0, w1=6.493532527880568\n",
      "Gradient Descent(30/99): loss=12.811828384915032, w0=62.0, w1=4.9872792743170615\n",
      "Gradient Descent(31/99): loss=3.1788528776460367, w0=60.0, w1=6.440139610716585\n",
      "Gradient Descent(32/99): loss=3.602685410571077, w0=58.0, w1=8.828822060067488\n",
      "Gradient Descent(33/99): loss=24.78036001381534, w0=60.0, w1=11.100735560402764\n",
      "Gradient Descent(34/99): loss=16.428105078243135, w0=62.0, w1=13.232123142081042\n",
      "Gradient Descent(35/99): loss=17.561566402109165, w0=64.0, w1=14.729781860514523\n",
      "Gradient Descent(36/99): loss=116.10032486291578, w0=66.0, w1=6.814639869403124\n",
      "Gradient Descent(37/99): loss=4.412938212447131, w0=64.0, w1=8.565491786550016\n",
      "Gradient Descent(38/99): loss=0.7240295061804005, w0=66.0, w1=7.059900255781879\n",
      "Gradient Descent(39/99): loss=8.025130526096731, w0=68.0, w1=7.375043208526998\n",
      "Gradient Descent(40/99): loss=7.1902917032764435, w0=70.0, w1=8.791118238437948\n",
      "Gradient Descent(41/99): loss=7.481811200829718, w0=68.0, w1=10.57630709504065\n",
      "Gradient Descent(42/99): loss=3.224505799228396, w0=70.0, w1=13.281770700019024\n",
      "Gradient Descent(43/99): loss=5.3400378967657645, w0=72.0, w1=11.698607631457364\n",
      "Gradient Descent(44/99): loss=6.571487025419827, w0=70.0, w1=14.81230769738085\n",
      "Gradient Descent(45/99): loss=9.078451763068948, w0=72.0, w1=13.582788873207319\n",
      "Gradient Descent(46/99): loss=5.364867166400359, w0=74.0, w1=15.428923825742235\n",
      "Gradient Descent(47/99): loss=12.165618738012853, w0=76.0, w1=16.413118816800715\n",
      "Gradient Descent(48/99): loss=5.267753163927978, w0=78.0, w1=17.01644565841844\n",
      "Gradient Descent(49/99): loss=6.196466419360753, w0=76.0, w1=19.555965156036994\n",
      "Gradient Descent(50/99): loss=10.076311509250615, w0=74.0, w1=19.04638766638038\n",
      "Gradient Descent(51/99): loss=5.2058756900599406, w0=76.0, w1=22.261044695324113\n",
      "Gradient Descent(52/99): loss=0.9751165788676275, w0=78.0, w1=23.019569558821914\n",
      "Gradient Descent(53/99): loss=4.063314605595544, w0=76.0, w1=24.596630792929567\n",
      "Gradient Descent(54/99): loss=5.12554062408077, w0=74.0, w1=23.375153406594087\n",
      "Gradient Descent(55/99): loss=2.292629225181173, w0=76.0, w1=23.012254991656874\n",
      "Gradient Descent(56/99): loss=6.620794568727007, w0=74.0, w1=23.243153007338908\n",
      "Gradient Descent(57/99): loss=3.0771826860615334, w0=72.0, w1=24.22937325798176\n",
      "Gradient Descent(58/99): loss=13.32043832811383, w0=74.0, w1=21.01242350512127\n",
      "Gradient Descent(59/99): loss=4.985426934773585, w0=72.0, w1=21.53203448676461\n",
      "Gradient Descent(60/99): loss=2.7200565708950393, w0=74.0, w1=23.42673253545903\n",
      "Gradient Descent(61/99): loss=13.889531532028315, w0=76.0, w1=20.987171762815404\n",
      "Gradient Descent(62/99): loss=3.894829573049577, w0=74.0, w1=22.38626757251994\n",
      "Gradient Descent(63/99): loss=1.2596944283709917, w0=72.0, w1=23.980906726088623\n",
      "Gradient Descent(64/99): loss=1.6586007475990385, w0=74.0, w1=24.39042269921581\n",
      "Gradient Descent(65/99): loss=0.03463875293811469, w0=72.0, w1=25.59967819856585\n",
      "Gradient Descent(66/99): loss=9.00298791668088, w0=74.0, w1=23.722875433557384\n",
      "Gradient Descent(67/99): loss=3.3734925620421237, w0=72.0, w1=25.088727440489166\n",
      "Gradient Descent(68/99): loss=3.860473093915573, w0=74.0, w1=24.087764773722334\n",
      "Gradient Descent(69/99): loss=4.9983148584646955, w0=76.0, w1=23.07886262638715\n",
      "Gradient Descent(70/99): loss=20.705916111693924, w0=74.0, w1=19.18528721098216\n",
      "Gradient Descent(71/99): loss=0.5527188547537278, w0=76.0, w1=16.846263297251795\n",
      "Gradient Descent(72/99): loss=10.507075368646397, w0=74.0, w1=16.918542626934197\n",
      "Gradient Descent(73/99): loss=9.616112971238095, w0=72.0, w1=17.733326897075038\n",
      "Gradient Descent(74/99): loss=0.9101240650016251, w0=70.0, w1=16.451443929118724\n",
      "Gradient Descent(75/99): loss=0.5772235055737411, w0=72.0, w1=14.047391044187453\n",
      "Gradient Descent(76/99): loss=4.612176698004717, w0=74.0, w1=13.086354022255804\n",
      "Gradient Descent(77/99): loss=1.274199618655416, w0=76.0, w1=14.167896260417894\n",
      "Gradient Descent(78/99): loss=9.286847135350264, w0=74.0, w1=15.697952497064195\n",
      "Gradient Descent(79/99): loss=3.311984141731031, w0=76.0, w1=17.749847708581875\n",
      "Gradient Descent(80/99): loss=7.100292883245615, w0=78.0, w1=16.658059181295204\n",
      "Gradient Descent(81/99): loss=4.302573805897126, w0=80.0, w1=15.516751260190693\n",
      "Gradient Descent(82/99): loss=0.10865501102639996, w0=82.0, w1=17.062342837251098\n",
      "Gradient Descent(83/99): loss=12.164217854825793, w0=80.0, w1=13.940558510605971\n",
      "Gradient Descent(84/99): loss=4.7947063840451705, w0=82.0, w1=17.314286226891387\n",
      "Gradient Descent(85/99): loss=12.014926302903262, w0=80.0, w1=14.91088574624955\n",
      "Gradient Descent(86/99): loss=4.45334626598931, w0=78.0, w1=14.19774728142904\n",
      "Gradient Descent(87/99): loss=1.0645139524907705, w0=80.0, w1=13.06638658650952\n",
      "Gradient Descent(88/99): loss=7.9819359280742574, w0=78.0, w1=15.857236526343574\n",
      "Gradient Descent(89/99): loss=4.428483784095121, w0=76.0, w1=15.278845411940718\n",
      "Gradient Descent(90/99): loss=4.127325023641539, w0=74.0, w1=17.05327847928527\n",
      "Gradient Descent(91/99): loss=2.6508817663305706, w0=72.0, w1=14.981792221911546\n",
      "Gradient Descent(92/99): loss=5.614236434101215, w0=74.0, w1=16.818734218379532\n",
      "Gradient Descent(93/99): loss=0.17814214305387566, w0=72.0, w1=16.917850959355164\n",
      "Gradient Descent(94/99): loss=3.3277041582882987, w0=70.0, w1=14.331636378820697\n",
      "Gradient Descent(95/99): loss=10.734527457416064, w0=72.0, w1=14.656837312575876\n",
      "Gradient Descent(96/99): loss=3.129368104181019, w0=70.0, w1=16.754306806864417\n",
      "Gradient Descent(97/99): loss=7.165860323733298, w0=68.0, w1=15.187465367556385\n",
      "Gradient Descent(98/99): loss=9.50300447627258, w0=70.0, w1=15.66018763022103\n",
      "Gradient Descent(99/99): loss=4.398298514349165, w0=72.0, w1=18.855359689110976\n",
      "SGD: execution time=0.006 seconds\n"
     ]
    }
   ],
   "source": [
    "# from stochastic_gradient_descent import *\n",
    "\n",
    "# Define the parameters of the algorithm.\n",
    "max_iters = 100\n",
    "gamma = 2\n",
    "batch_size = 1\n",
    "\n",
    "# Initialization\n",
    "w_initial = np.array([0, 0])\n",
    "\n",
    "# Start SGD.\n",
    "start_time = datetime.datetime.now()\n",
    "gradient_losses, gradient_ws = stochastic_gradient_descent(\n",
    "    y, tx, w_initial, batch_size, max_iters, gamma)\n",
    "end_time = datetime.datetime.now()\n",
    "\n",
    "# Print result\n",
    "exection_time = (end_time - start_time).total_seconds()\n",
    "print(\"SGD: execution time={t:.3f} seconds\".format(t=exection_time))"
   ]
  },
  {
   "cell_type": "code",
   "execution_count": 30,
   "metadata": {
    "collapsed": false
   },
   "outputs": [
    {
     "data": {
      "image/png": "[encoded data removed]",
      "text/plain": [
       "<matplotlib.figure.Figure at 0x113c12d68>"
      ]
     },
     "metadata": {},
     "output_type": "display_data"
    }
   ],
   "source": [
    "# Time Visualization\n",
    "from ipywidgets import IntSlider, interact\n",
    "def plot_figure(n_iter):\n",
    "    fig = gradient_descent_visualization(\n",
    "        gradient_losses, gradient_ws, grid_losses, grid_w0, grid_w1, mean_x, std_x, height, weight, n_iter)\n",
    "    fig.set_size_inches(10.0, 6.0)\n",
    "\n",
    "interact(plot_figure, n_iter=IntSlider(min=1, max=len(gradient_ws)))"
   ]
  },
  {
   "cell_type": "code",
   "execution_count": null,
   "metadata": {
    "collapsed": true
   },
   "outputs": [],
   "source": []
  }
 ],
 "metadata": {
  "anaconda-cloud": {},
  "kernelspec": {
   "display_name": "Python [Root]",
   "language": "python",
   "name": "Python [Root]"
  },
  "language_info": {
   "codemirror_mode": {
    "name": "ipython",
    "version": 3
   },
   "file_extension": ".py",
   "mimetype": "text/x-python",
   "name": "python",
   "nbconvert_exporter": "python",
   "pygments_lexer": "ipython3",
   "version": "3.5.2"
  }
 },
 "nbformat": 4,
 "nbformat_minor": 0
}
